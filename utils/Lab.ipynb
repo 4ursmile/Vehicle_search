{
 "cells": [
  {
   "cell_type": "code",
   "execution_count": null,
   "metadata": {},
   "outputs": [],
   "source": [
    "import re\n",
    "import numpy as np\n",
    "import string\n",
    "from string import stopwords\n",
    "class StringUtils:\n",
    "    def __init__(self):\n",
    "        pass\n",
    "    def remove_punctuation(self, text):\n",
    "        return re.sub(r'[^\\w\\s]','',text)\n",
    "    def remove_digits(self, text):\n",
    "        return re.sub(r'\\d','',text)\n",
    "    def remove_stopwords(self, text):\n",
    "        return ' '.join([word for word in text.split() if word not in stopwords.words('english')])\n",
    "    def remove_extra_spaces(self, text):\n",
    "        return ' '.join(text.split())\n",
    "    def to_lower(self, text):\n",
    "        return text.lower()"
   ]
  }
 ],
 "metadata": {
  "language_info": {
   "name": "python"
  },
  "orig_nbformat": 4
 },
 "nbformat": 4,
 "nbformat_minor": 2
}
